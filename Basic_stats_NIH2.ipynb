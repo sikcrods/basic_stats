{
 "cells": [
  {
   "cell_type": "markdown",
   "metadata": {},
   "source": [
    "## Script to calculate Basic Statistics"
   ]
  },
  {
   "cell_type": "markdown",
   "metadata": {},
   "source": [
    "### Equation for the mean:   $\\mu_x = \\sum_{i=1}^{N}\\frac{x_i}{N}$\n",
    "\n",
    "### Equation for the standard deviation:  $\\sigma_x = \\sqrt{\\sum_{i=1}^{N}\\left(x_i - \\mu \\right)^2}\\frac{1}{N-1}$\n",
    "\n",
    "\n",
    "**Instructions:**\n",
    "\n",
    "**(1) Before you write code, write an algorithm that describes the sequence of steps you will take to compute the mean and standard deviation for your samples.  The algorithm can be written in pseudocode or as an itemized list.***\n",
    "\n",
    "**(2) Use 'for' loops to help yourself compute the average and standard deviation.**\n",
    "\n",
    "**(3) Use for loops and conditional operators to count the number of samples within $1\\sigma$ of the mean.**\n",
    "\n",
    "**Note:** It is not acceptable to use the pre-programmed routines for mean and st. dev., e.g. numpy.mean()"
   ]
  },
  {
   "cell_type": "markdown",
   "metadata": {},
   "source": [
    "### Edit this box to write an algorithm for computing the mean and std. deviation.\n",
    "\n",
    "~~~\n",
    "\n",
    "First need to import matplotlib.pyplot\n",
    "\n",
    "Create a list of numbers compiled into an array\n",
    "    > Set variable name to array\n",
    "        > sample = strbasslength\n",
    "\n",
    "Determine the length of the sample list\n",
    "    > employ for statement to count number of samples in the array\n",
    "        > len to find length \n",
    "            > len(sample)\n",
    "            \n",
    "Calculate the average number of the values within the array\n",
    "    > Begin sum with index value of zero to add x\n",
    "    > sum = sumx + x\n",
    "    > Divide the sum of the array by the len(sample) value\n",
    "    \n",
    "For standard deviation\n",
    "    > Rename sample = listx\n",
    "    > Calc sum of squared deviation for each observation in listx\n",
    "    > Take square root of sum squared deviation divided by the number of observations (len(listx)).\n",
    "    \n",
    "Use print function to display mean and std. deviation in a sentence\n",
    "\n",
    "Employ for statement for number of values +/- 1 std. deviation\n",
    "    >Use print function to report number of values between minand max values\n",
    "    \n",
    "If then statement to describe a normal distribution vs right skew vs left skew\n",
    "    >If the number of values is greater than +/- 1 std. deviation \n",
    "        >the data may be distributed left or right skew\n",
    "    >else the data is normally distributed\n",
    "    \n",
    "Histogram\n",
    "    >Plot Total Length vs Number of Fish\n",
    "\n",
    "Skewness\n",
    "    >\n",
    "    \n",
    "\n",
    "\n",
    "\n",
    "\n",
    "\n",
    "~~~"
   ]
  },
  {
   "cell_type": "markdown",
   "metadata": {},
   "source": [
    "### Write your code using instructions in the cells below."
   ]
  },
  {
   "cell_type": "markdown",
   "metadata": {},
   "source": [
    "Calculating Mean & Std. Deviation via 'For Loops'\n",
    "\n",
    "Izak Hill, 24 Sept 2020, v1.0.1\n"
   ]
  },
  {
   "cell_type": "code",
   "execution_count": 1,
   "metadata": {},
   "outputs": [],
   "source": [
    "# Import the matplotlib module here.  No other modules should be used.\n",
    "import matplotlib.pyplot as mplt"
   ]
  },
  {
   "cell_type": "code",
   "execution_count": 2,
   "metadata": {},
   "outputs": [],
   "source": [
    "# Create a list variable that contains at least 25 elements.  You can create this list any number of ways.  \n",
    "strbasslength = [20.75,21.25,27,39,46.5,18,23,31.75,30.25,24.5,48,32.25,29,16.5,47,22,13.75,41,53.25,23,35.75,47,40,30.25,26.5,45,19,26,37]\n",
    "# This will be your sample.\n",
    "sample=strbasslength"
   ]
  },
  {
   "cell_type": "code",
   "execution_count": 3,
   "metadata": {},
   "outputs": [
    {
     "name": "stdout",
     "output_type": "stream",
     "text": [
      "Length of x is: 29\n"
     ]
    }
   ],
   "source": [
    "# Pretend you do not know how long x is; compute it's length, N, without using functions or modules.\n",
    "for N in sample: \n",
    "    N = len(sample)\n",
    "\n",
    "print (\"Length of x is:\", N)"
   ]
  },
  {
   "cell_type": "code",
   "execution_count": 4,
   "metadata": {},
   "outputs": [
    {
     "name": "stdout",
     "output_type": "stream",
     "text": [
      "The average of 'listx' is: 31.525862068965516\n"
     ]
    }
   ],
   "source": [
    "# Compute the mean of the elements in list x.\n",
    "listx = sample\n",
    "def cal_average(listx): \n",
    "    sum_listx = 0\n",
    "    for x in listx:\n",
    "        sum_listx = sum_listx + x\n",
    "        \n",
    "    avg = sum_listx / len(listx)\n",
    "    return avg\n",
    "\n",
    "print(\"The average of 'listx' is:\", cal_average(listx))"
   ]
  },
  {
   "cell_type": "code",
   "execution_count": 41,
   "metadata": {},
   "outputs": [],
   "source": [
    "# Compute the std deviation, using the mean and the elements in list x.\n",
    "listx = [20.75,21.25,27,39,46.5,18,23,31.75,30.25,24.5,48,32.25,29,16.5,47,22,13.75,41,53.25,23,35.75,47,40,30.25,26.5,45,19,26,37]\n",
    "sum=0\n",
    "for s in range(len(listx)):\n",
    "    sum += listx[s]\n",
    "mean_listx = sum/len(listx)\n",
    "               \n",
    "sum_sq_dev = 0\n",
    "for s in range(len(listx)):\n",
    "    sum_sq_dev+=(listx[s]-mean_listx)**2\n",
    "std_dev=((sum_sq_dev)/len(listx))**0.5\n",
    "\n"
   ]
  },
  {
   "cell_type": "code",
   "execution_count": 46,
   "metadata": {},
   "outputs": [
    {
     "name": "stdout",
     "output_type": "stream",
     "text": [
      "The average of 'listx' is: 31.525862068965516\n",
      "and the standard deviation is: 10.77759985987584\n"
     ]
    }
   ],
   "source": [
    "# Use the 'print' command to report the values of average (mu) and std. dev. (sigma).\n",
    "print(\"The average of 'listx' is:\", cal_average(listx))\n",
    "print(\"and the standard deviation is:\", std_dev)\n",
    "\n"
   ]
  },
  {
   "cell_type": "code",
   "execution_count": 145,
   "metadata": {
    "scrolled": true
   },
   "outputs": [
    {
     "name": "stdout",
     "output_type": "stream",
     "text": [
      "The value for min is: 20.748262209089674\n",
      "The value for max is: 42.30346192884136\n",
      "The number of values that are within +/- 1 std. deviation is: 25\n",
      "The percentage of observations within +/- 1 std. deviation is 86.20689655172413\n",
      "The data for listx is normally distributed.\n"
     ]
    }
   ],
   "source": [
    "# Count the number of values that are within +/- 1 std. deviation of the mean.\n",
    "listx = [20.75,21.25,27,39,46.5,18,23,31.75,30.25,24.5,48,32.25,29,16.5,47,22,13.75,41,53.25,23,35.75,47,40,30.25,26.5,45,19,26,37]\n",
    "min = cal_average(listx) - std_dev \n",
    "max = cal_average(listx) + std_dev\n",
    "print(\"The value for min is:\", min)\n",
    "print(\"The value for max is:\", max)\n",
    "\n",
    "def count(listx, x, y):\n",
    "    count = 0\n",
    "    for x in listx:\n",
    "        if (x >= min and y <= max):\n",
    "            count = count + 1\n",
    "    return count\n",
    "min = 20.74\n",
    "max = 42.30\n",
    "print(\"The number of values that are within +/- 1 std. deviation is:\",count(listx, min, max))\n",
    "\n",
    "\n",
    "# A normal distribution will have approx. 68% of the values within this range. \n",
    "distr_percent = (count(listx, min, max) / len(listx)) * 100\n",
    "print(\"The percentage of observations within +/- 1 std. deviation is\", distr_percent)\n",
    "\n",
    "# Based on this criteria is the list normally distributed?\n",
    "print(\"The data for listx is normally distributed.\")"
   ]
  },
  {
   "cell_type": "code",
   "execution_count": 146,
   "metadata": {},
   "outputs": [
    {
     "name": "stdout",
     "output_type": "stream",
     "text": [
      "The data is normally distributed.\n"
     ]
    }
   ],
   "source": [
    "# Use print() and if statements to report a message about whether the data is normally distributed.\n",
    "distr_percent = 86.206\n",
    "if distr_percent >= 68:\n",
    "    print(\"The data is more normally distributed.\")\n",
    "else:\n",
    "    print(\"The data is not normally distributed.\")"
   ]
  },
  {
   "cell_type": "code",
   "execution_count": 45,
   "metadata": {
    "scrolled": true
   },
   "outputs": [
    {
     "data": {
      "image/png": "[encoded data removed]",
      "text/plain": [
       "<Figure size 864x648 with 1 Axes>"
      ]
     },
     "metadata": {
      "needs_background": "light"
     },
     "output_type": "display_data"
    }
   ],
   "source": [
    "### Use Matplotlb.pyplot to make a histogram of x.\n",
    "import matplotlib.pyplot as plt\n",
    "\n",
    "#Dataset\n",
    "strbasslength = ([20.75,21.25,27,39,46.5,18,23,31.75,30.25,24.5,48,32.25,29,16.5,47,22,13.75,41,53.25,23,35.75,47,40,30.25,26.5,45,19,26,37])\n",
    "\n",
    "#Creating histogram\n",
    "fig, ax = plt.subplots(figsize = (12,9))\n",
    "ax.hist(strbasslength, bins = [10, 20, 30, 40, 50, 60])\n",
    "\n",
    "#Plot title\n",
    "plt.title(\"Striped Bass Length\")\n",
    "\n",
    "#Axis Title\n",
    "plt.xlabel(\"Total Length\")\n",
    "plt.ylabel(\"Number of Fish\")\n",
    "\n",
    "#show plot\n",
    "plt.show()\n"
   ]
  },
  {
   "cell_type": "markdown",
   "metadata": {
    "collapsed": true
   },
   "source": [
    "### OCG 593 students, look up an equation for Skewness and write code to compute the skewness. \n",
    "#### Compute the skewness and report whether the sample is normally distributed."
   ]
  },
  {
   "cell_type": "code",
   "execution_count": 46,
   "metadata": {},
   "outputs": [
    {
     "name": "stdout",
     "output_type": "stream",
     "text": [
      "Median of listx is  30.25\n",
      "The skewness of the sample set is 0.35514272719906326\n",
      "It is possible this dataset is right skew.\n"
     ]
    }
   ],
   "source": [
    "#skewness = 3(mean-median)/standard deviation\n",
    "listx = [20.75,21.25,27,39,46.5,18,23,31.75,30.25,24.5,48,32.25,29,16.5,47,22,13.75,41,53.25,23,35.75,47,40,30.25,26.5,45,19,26,37] \n",
    "\n",
    "def median(listx):\n",
    "    list.sort(listx)\n",
    "    l = len(listx)\n",
    "    \n",
    "    mid = (l-1)//2\n",
    "    \n",
    "    if(l%2==0):\n",
    "        return (listx[mid]+ listx[mid+1])/2\n",
    "    else:\n",
    "        return listx[mid]\n",
    "    \n",
    "print(\"Median of listx is \", median(listx))\n",
    "\n",
    "\n",
    "skewness = (3*(cal_average(listx)-median(listx))/std_dev) #Reference site:https://www.geeksforgeeks.org/scipy-stats-skew-python/\n",
    "print(\"The skewness of the sample set is\", skewness)\n",
    "\n",
    "if skewness == 0:\n",
    "    print(\"This dataset is normally distributed.\")\n",
    "elif skewness > 0:\n",
    "    print(\"It is possible this dataset is right skew.\")\n",
    "else:\n",
    "    print(\"The skewness must be less than zero, so the dataset must be left skew.\")"
   ]
  },
  {
   "cell_type": "code",
   "execution_count": null,
   "metadata": {},
   "outputs": [],
   "source": []
  }
 ],
 "metadata": {
  "kernelspec": {
   "display_name": "Python 3",
   "language": "python",
   "name": "python3"
  },
  "language_info": {
   "codemirror_mode": {
    "name": "ipython",
    "version": 3
   },
   "file_extension": ".py",
   "mimetype": "text/x-python",
   "name": "python",
   "nbconvert_exporter": "python",
   "pygments_lexer": "ipython3",
   "version": "3.8.3"
  }
 },
 "nbformat": 4,
 "nbformat_minor": 1
}
